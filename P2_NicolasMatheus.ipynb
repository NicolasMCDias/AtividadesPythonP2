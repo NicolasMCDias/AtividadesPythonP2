{
  "nbformat": 4,
  "nbformat_minor": 0,
  "metadata": {
    "colab": {
      "provenance": [],
      "authorship_tag": "ABX9TyPvvIHFtuKCDufwi9Rc/Wql",
      "include_colab_link": true
    },
    "kernelspec": {
      "name": "python3",
      "display_name": "Python 3"
    },
    "language_info": {
      "name": "python"
    }
  },
  "cells": [
    {
      "cell_type": "markdown",
      "metadata": {
        "id": "view-in-github",
        "colab_type": "text"
      },
      "source": [
        "<a href=\"https://colab.research.google.com/github/NicolasMCDias/AtividadesPythonP2/blob/main/P2_NicolasMatheus.ipynb\" target=\"_parent\"><img src=\"https://colab.research.google.com/assets/colab-badge.svg\" alt=\"Open In Colab\"/></a>"
      ]
    },
    {
      "cell_type": "markdown",
      "source": [
        "Desafio: Organização Empresarial com Árvore"
      ],
      "metadata": {
        "id": "MZQU0KDCz-us"
      }
    },
    {
      "cell_type": "code",
      "execution_count": null,
      "metadata": {
        "id": "UJ-zaWr2y1Yb"
      },
      "outputs": [],
      "source": [
        "\n",
        "class Node:\n",
        "  def __init__(self,data):\n",
        "    self.data = data\n",
        "    self.funcionarios = []\n",
        "\n",
        "  def add_child(self,node):\n",
        "\n",
        "    self.funcionarios.append(node)\n",
        "\n",
        "  def remove_child(self,node):\n",
        "    self.funcionarios.remove(node)\n",
        "\n",
        "class empresa:\n",
        "  def __init__(self):\n",
        "    self.root = None\n",
        "\n",
        "  def set_root(self,node):\n",
        "    self.root = node\n",
        "  def get_node(self,data,current_node):\n",
        "    if current_node.data == data:\n",
        "      return current_node\n",
        "    else:\n",
        "      for funcionario in current_node.funcionarios:\n",
        "        result = self.get_node(data,funcionario[3])\n",
        "        if result is not None:\n",
        "          return result\n",
        "\n",
        "  def add_funcionario(self,data, parent_data = None):\n",
        "    node = Node(data)\n",
        "    if parent_data is None:\n",
        "      if self.root is None:\n",
        "        self.set_root(node)\n",
        "    else:\n",
        "      parent_node = self.get_node(parent_data,self.root)\n",
        "      if parent_node is not None:\n",
        "        parent_node.add_child(node)\n",
        "\n",
        "  def Exibir_todos_os_funcionarios(self, node, level=0):\n",
        "    if node is not None:\n",
        "      print(\"-\"*level + str(node.data))\n",
        "      for funcionario in node.funcionarios:\n",
        "        self.Exibir_todos_os_funcionarios(funcionario,level + 1)\n",
        "\n",
        "  def Exibir_funcionario(Self,node):\n",
        "    id = int(input(\"ID do funcionario: \"))\n",
        "    indo = True\n",
        "    conta = 0\n",
        "    for funcionario in node.funcionarios:\n",
        "      count +=1\n",
        "      if id == funcionario[count]:\n",
        "          return f\"==>{funcionario}\"\n",
        "\n",
        "\n",
        "  def contar_funcionarios(root):\n",
        "    if not root:\n",
        "      return 0\n",
        "    count = 1\n",
        "    count_nodes =None\n",
        "    for funcionario in root.funcionarios:\n",
        "      count += count_nodes(funcionario)\n",
        "\n",
        "    return f\"TOTAL: {count}\"\n",
        "\n",
        "sistema_organizacao = empresa()\n",
        "\n",
        "#add:\n",
        "# sistema_organizacao.add_funcionario(1,\"João\", \"CEO\",None)\n",
        "# sistema_organizacao.add_funcionario(2,\"Maria\",\"CFO\",1)\n",
        "# sistema_organizacao.add_funcionario(3,\"pedro\",\"CTO\",1)\n",
        "# sistema_organizacao.add_funcionario(4,\"Carlos\",\"Gerente\",2)\n",
        "\n",
        "sistema_organizacao.add_funcionario(1)\n",
        "sistema_organizacao.add_funcionario(2)\n",
        "sistema_organizacao.add_funcionario(3)\n",
        "sistema_organizacao.add_funcionario(4)\n",
        "\n"
      ]
    },
    {
      "cell_type": "markdown",
      "source": [
        "Desafio: Busca em Largura em uma árvore de amizades em uma rede social\n"
      ],
      "metadata": {
        "id": "bSV3fDvfFdqF"
      }
    },
    {
      "cell_type": "code",
      "source": [
        "class Node:\n",
        "    def __init__(self, data):\n",
        "        self.data = data\n",
        "        self.pessoas = []\n",
        "\n",
        "    def add_pessoa(self, node):\n",
        "        self.pessoas.append(node)\n",
        "\n",
        "    def remove_pessoa(self, node):\n",
        "        self.pessoas.remove(node)\n",
        "class Usuario:\n",
        "\n",
        "  def __init__(self):\n",
        "        self.root = None\n",
        "\n",
        "  def set_root(self, node):\n",
        "        self.root = node\n",
        "\n",
        "  def get_node(self, data, current_node):\n",
        "        if current_node.data == data:\n",
        "            return current_node\n",
        "        else:\n",
        "            for pessoa in current_node.pessoas:\n",
        "                result = self.get_node(data, pessoa)\n",
        "                if result is not None:\n",
        "                    return result\n",
        "  def add_amigo(self,data,parent_data = None):\n",
        "    node = Node(data)\n",
        "    if parent_data is None:\n",
        "      if self.root is None:\n",
        "        self.set_root(node)\n",
        "    else:\n",
        "      parent_node = self.get_node(parent_data, self.root)\n",
        "      if parent_node is not None:\n",
        "        parent_node.add_child(node)\n",
        "      else:\n",
        "        return \"Relação não encontrada!\"\n",
        "\n",
        "  def obter_amigos(self,node,nivel=0):\n",
        "    if node is not None:\n",
        "      print(\"==>\"*nivel + str(node.data))\n",
        "      for pessoa in node.pessoas:\n",
        "        self.obter_amigos(nivel+1)\n",
        "\n",
        "def busca_de_amigos(usuario_inicial,nome_alvo):\n",
        "  for pessoa in usuario_inicial.pessoas:\n",
        "    if nome_alvo == pessoa:\n",
        "      return True\n",
        "    else:\n",
        "      return False\n",
        "\n",
        "\n",
        "\n",
        "#usuarios:\n",
        "root = Usuario(\"Alice\")\n",
        "bob = Usuario(\"Bob\")\n",
        "david = Usuario(\"david\")\n",
        "eve = Usuario(\"Eve\")\n",
        "carol = Usuario(\"carol\")\n",
        "\n",
        "root.add_amigo(\"Bob\",\"Alice\")\n",
        "# Usuario.add_amigo(\"alice\",\"carol\")\n",
        "Usuario.add_amigo(\"bob\",\"david\")\n",
        "Usuario.add_amigo(\"carol\",\"david\")\n",
        "Usuario.add_amigo(\"david\",\"Eve\")\n",
        "\n",
        "resultado = busca_de_amigos(alice, \"Eve\")\n",
        ""
      ],
      "metadata": {
        "colab": {
          "base_uri": "https://localhost:8080/",
          "height": 235
        },
        "id": "ZmLTX8WxFcG-",
        "outputId": "5570ba8a-c933-47e7-9b9f-ec1d9346b383"
      },
      "execution_count": null,
      "outputs": [
        {
          "output_type": "error",
          "ename": "TypeError",
          "evalue": "ignored",
          "traceback": [
            "\u001b[0;31m---------------------------------------------------------------------------\u001b[0m",
            "\u001b[0;31mTypeError\u001b[0m                                 Traceback (most recent call last)",
            "\u001b[0;32m<ipython-input-24-073356b5ee3b>\u001b[0m in \u001b[0;36m<cell line: 55>\u001b[0;34m()\u001b[0m\n\u001b[1;32m     53\u001b[0m \u001b[0;34m\u001b[0m\u001b[0m\n\u001b[1;32m     54\u001b[0m \u001b[0;31m#usuarios:\u001b[0m\u001b[0;34m\u001b[0m\u001b[0;34m\u001b[0m\u001b[0m\n\u001b[0;32m---> 55\u001b[0;31m \u001b[0mroot\u001b[0m \u001b[0;34m=\u001b[0m \u001b[0mUsuario\u001b[0m\u001b[0;34m(\u001b[0m\u001b[0;34m\"Alice\"\u001b[0m\u001b[0;34m)\u001b[0m\u001b[0;34m\u001b[0m\u001b[0;34m\u001b[0m\u001b[0m\n\u001b[0m\u001b[1;32m     56\u001b[0m \u001b[0mbob\u001b[0m \u001b[0;34m=\u001b[0m \u001b[0mUsuario\u001b[0m\u001b[0;34m(\u001b[0m\u001b[0;34m\"Bob\"\u001b[0m\u001b[0;34m)\u001b[0m\u001b[0;34m\u001b[0m\u001b[0;34m\u001b[0m\u001b[0m\n\u001b[1;32m     57\u001b[0m \u001b[0mdavid\u001b[0m \u001b[0;34m=\u001b[0m \u001b[0mUsuario\u001b[0m\u001b[0;34m(\u001b[0m\u001b[0;34m\"david\"\u001b[0m\u001b[0;34m)\u001b[0m\u001b[0;34m\u001b[0m\u001b[0;34m\u001b[0m\u001b[0m\n",
            "\u001b[0;31mTypeError\u001b[0m: Usuario.__init__() takes 1 positional argument but 2 were given"
          ]
        }
      ]
    },
    {
      "cell_type": "markdown",
      "source": [
        "Desafio: Ordenação de uma lista de alunos por nota em uma sala de aula.\n"
      ],
      "metadata": {
        "id": "LFXwUMlBFef1"
      }
    },
    {
      "cell_type": "code",
      "source": [
        "alunos = [\n",
        "    {'nome':'João','nota':8.5},\n",
        "    {'nome':'Maria','nota':9.2},\n",
        "    {'nome':'Pedro','nota':7.8},\n",
        "    {'nome':'Ana','nota':9.8}\n",
        "]\n",
        "\n",
        "def ordenar_alunos_por_nota(lista):\n",
        "  c = len(lista)\n",
        "  for g in range(c):\n",
        "    maior_index = g\n",
        "    for t in range(g + 1,c):\n",
        "      if lista[t]['nota'] > lista[maior_index]['nota']:\n",
        "        maior_index = t\n",
        "    lista[g],lista[maior_index] = lista[maior_index],lista[g]\n",
        "    return lista\n",
        "\n",
        "\n",
        "resultado = ordenar_alunos_por_nota(alunos)\n",
        "for aluno in resultado:\n",
        "  print(f\"{aluno['nome']}==>{aluno['nota']}\")"
      ],
      "metadata": {
        "id": "y0Yr6XcT9CQN"
      },
      "execution_count": null,
      "outputs": []
    }
  ]
}