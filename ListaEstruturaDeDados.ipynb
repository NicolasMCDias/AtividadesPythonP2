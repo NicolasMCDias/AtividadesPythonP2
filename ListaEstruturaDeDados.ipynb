{
  "nbformat": 4,
  "nbformat_minor": 0,
  "metadata": {
    "colab": {
      "provenance": [],
      "authorship_tag": "ABX9TyPen++MrGTOIAI6hCi09JEo",
      "include_colab_link": true
    },
    "kernelspec": {
      "name": "python3",
      "display_name": "Python 3"
    },
    "language_info": {
      "name": "python"
    }
  },
  "cells": [
    {
      "cell_type": "markdown",
      "metadata": {
        "id": "view-in-github",
        "colab_type": "text"
      },
      "source": [
        "<a href=\"https://colab.research.google.com/github/NicolasMCDias/AtividadesPythonUni/blob/main/ListaEstruturaDeDados.ipynb\" target=\"_parent\"><img src=\"https://colab.research.google.com/assets/colab-badge.svg\" alt=\"Open In Colab\"/></a>"
      ]
    },
    {
      "cell_type": "markdown",
      "source": [
        "1. Escreva uma função que recebe uma lista de dicionários e retorna uma lista de tuplas, onde\n",
        "cada tupla contém o nome e idade de cada pessoa, ordenadas por idade de forma crescente.\n"
      ],
      "metadata": {
        "id": "j-tTFnDQvDYJ"
      }
    },
    {
      "cell_type": "code",
      "source": [
        "Lista_dicio = [{'NOME': \"Heitor\", 'IDADE': 23},{'NOME' : \"Ana\",'IDADE':12}]\n",
        "print(Lista_dicio)\n",
        "def para_tupla(lista):\n",
        "  lista_tupla = list()\n",
        "  for conver in lista:\n",
        "    nome = conver['NOME']\n",
        "    idade = conver['IDADE']\n",
        "    valores = (nome, idade)\n",
        "    lista_tupla.append(valores)\n",
        "  return lista_tupla\n",
        "print(para_tupla(Lista_dicio))"
      ],
      "metadata": {
        "id": "PcJhczRjvEMY"
      },
      "execution_count": null,
      "outputs": []
    },
    {
      "cell_type": "markdown",
      "source": [
        "2. Escreva uma função que recebe uma lista de dicionários com informações sobre pessoas\n",
        "(nome, idade, endereço) e retorna uma lista de dicionários contendo apenas o nome e\n",
        "endereço de cada pessoa."
      ],
      "metadata": {
        "id": "Et7fAKRDvEcf"
      }
    },
    {
      "cell_type": "code",
      "source": [
        "\n",
        "informação = [{'NOME':\"João\",'IDADE':18, 'ENDEREÇO': \"Rua aleatoria,1\"},{'NOME':\"Carol\",'IDADE':52,'ENDEREÇO':\"Rua conceição,234\"}]\n",
        "print(f\"lista com tudo ==>{informação}\")\n",
        "#Função:\n",
        "def need(lista):\n",
        "  desejadas = {}\n",
        "  lista_desejada = list()\n",
        "  for sel in lista:\n",
        "    nome = sel['NOME']\n",
        "    endereco = sel['ENDEREÇO']\n",
        "    desejadas['NOME'] = nome\n",
        "    desejadas['ENDEREÇO'] = endereco\n",
        "    lista_desejada.append(desejadas)\n",
        "  return lista_desejada\n",
        "\n",
        "print(f\"Somente com nome e endereço =>{need(informação)}\")"
      ],
      "metadata": {
        "id": "hXdHkQhsvPIP",
        "colab": {
          "base_uri": "https://localhost:8080/"
        },
        "outputId": "2a87a1b5-b632-4fa2-d6c2-6d2185cf4dfd"
      },
      "execution_count": null,
      "outputs": [
        {
          "output_type": "stream",
          "name": "stdout",
          "text": [
            "lista com tudo ==>[{'NOME': 'João', 'IDADE': 18, 'ENDEREÇO': 'Rua aleatoria,1'}, {'NOME': 'Carol', 'IDADE': 52, 'ENDEREÇO': 'Rua conceição,234'}]\n",
            "Somente com nome e endereço =>[{'NOME': 'Carol', 'ENDEREÇO': 'Rua conceição,234'}, {'NOME': 'Carol', 'ENDEREÇO': 'Rua conceição,234'}]\n"
          ]
        }
      ]
    },
    {
      "cell_type": "markdown",
      "source": [
        "3. Escreva uma função que recebe uma lista de números e retorna uma lista contendo somente\n",
        "os números pares da lista original."
      ],
      "metadata": {
        "id": "cnEQe0I_vOxv"
      }
    },
    {
      "cell_type": "code",
      "execution_count": null,
      "metadata": {
        "id": "LiKhoh6Uu07E"
      },
      "outputs": [],
      "source": [
        "def pares(lista):\n",
        "  par = []\n",
        "  for p in lista:\n",
        "    if p % 2 == 0:\n",
        "      par.append(p)\n",
        "  return par\n",
        "\n",
        "lista_numeros = [1,2,3,4,5,6,7,8,9,10,11,12,13,14,15,16,17,18,19,20]\n",
        "\n",
        "print(pares(lista_numeros))"
      ]
    },
    {
      "cell_type": "markdown",
      "source": [
        "4. Escreva uma função que recebe uma lista de dicionários com informações sobre alunos\n",
        "(nome, notas de matemática, notas de história) e retorna uma lista de dicionários contendo o\n",
        "nome e a média das notas de cada aluno.\n"
      ],
      "metadata": {
        "id": "-El1EgoyvoIG"
      }
    },
    {
      "cell_type": "code",
      "source": [
        "def media_aluno(lista):\n",
        "  listaComMedia = []\n",
        "  for m in lista:\n",
        "    aluno = {}\n",
        "    media = (m['NOTAmat'] + m['NOTAhis']) / 2\n",
        "    aluno['NOME'] = m['ALUNO']\n",
        "    aluno['MEDIA'] = media\n",
        "    listaComMedia.append(aluno)\n",
        "  return listaComMedia\n",
        "\n",
        "lista_aluno = [{'ALUNO': \"Anderson\",'NOTAmat': 8.5,'NOTAhis': 5.5},{'ALUNO':\"Trinide\" ,'NOTAmat': 10 ,'NOTAhis':7.5}]\n",
        "\n",
        "print(media_aluno(lista_aluno))"
      ],
      "metadata": {
        "id": "mFQLQg14voXG"
      },
      "execution_count": null,
      "outputs": []
    },
    {
      "cell_type": "markdown",
      "source": [
        "5. Escreva uma função que recebe uma lista de tuplas contendo informações sobre livros (título,\n",
        "autor, ano de publicação) e retorna uma lista de tuplas contendo somente os livros publicados\n",
        "depois de 2000, ordenados por ano de publicação.\n"
      ],
      "metadata": {
        "id": "JpywJYjuvooe"
      }
    },
    {
      "cell_type": "code",
      "source": [
        "def LivrosDeAno (Li):\n",
        "  lista = []\n",
        "  for l in Li:\n",
        "    if l[2] > 2000:\n",
        "      lista.append(l)\n",
        "  return lista\n",
        "\n",
        "Livros = [(\"O vendedor de Historias\",\"Jostein Gaarder\",2001),(\"O Andarilho\",\"Bernard Cornwell\",2002),(\"Senhor dos aneis\",\"J.R.R.Tolkien\",1954)]\n",
        "print(LivrosDeAno(Livros))"
      ],
      "metadata": {
        "id": "HiWidf8UvozV"
      },
      "execution_count": null,
      "outputs": []
    },
    {
      "cell_type": "markdown",
      "source": [
        "6. Escreva uma função que recebe um dicionário com informações sobre uma pessoa (nome,\n",
        "idade, endereço, telefone) e retorna uma string formatada com as informações."
      ],
      "metadata": {
        "id": "Z3douy_UvpJ_"
      }
    },
    {
      "cell_type": "code",
      "source": [
        "from typing import TextIO\n",
        "def formatar(lista):\n",
        "  nome = lista['NOME']\n",
        "  idade = str(lista['IDADE'])\n",
        "  endereco = lista['ENDERECO']\n",
        "  telefone = lista['TELEFONE']\n",
        "  Texto = \"NOME: \"+ nome + \"\\nIDADE: \" + idade + \"\\nENDERECO: \"+ endereco +\"\\nTELEFONE: \" + telefone\n",
        "  return Texto\n",
        "\n",
        "\n",
        "pessoa = {'NOME': \"Ludo\" ,'IDADE': 16,'ENDERECO':\"Abaixo do paraiso\",'TELEFONE':\"249945845312\"}\n",
        "print(formatar(pessoa))"
      ],
      "metadata": {
        "id": "BSD1NMD4vpPV"
      },
      "execution_count": null,
      "outputs": []
    },
    {
      "cell_type": "markdown",
      "source": [
        "7. Escreva uma função que recebe uma lista de dicionários com informações sobre produtos\n",
        "(nome, preço, quantidade em estoque) e retorna o produto com o menor preço.\n"
      ],
      "metadata": {
        "id": "uSTsqm2avo91"
      }
    },
    {
      "cell_type": "code",
      "source": [
        "def MaisBarato(produto):\n",
        "  menor = None\n",
        "  for v in produto:\n",
        "    m = v['PRECO']\n",
        "    if menor is None or m < menor:\n",
        "      menor = m\n",
        "      prod = v['NOME']\n",
        "  meno = str(menor)\n",
        "  barato = prod + \" é o mais barato, R$\"+meno\n",
        "\n",
        "  return barato\n",
        "\n",
        "\n",
        "listaProduto = [{'NOME':\"Suco de laranja\",'PRECO':15.68,'QUANT':5},{'NOME':\"Paçoca\",'PRECO':5.50,'QUANT':20},{'NOME':\"Agua\",'PRECO':6.00,'QUANT':10},{'NOME':\"Amaciante\",'PRECO':35.99,'QUANT':4}]\n",
        "print(MaisBarato(listaProduto))"
      ],
      "metadata": {
        "id": "E4mlMmcjvpEG"
      },
      "execution_count": null,
      "outputs": []
    },
    {
      "cell_type": "markdown",
      "source": [
        "8. Escreva uma função que recebe uma lista de números e retorna uma lista contendo somente\n",
        "os números ímpares da lista original, ordenados de forma decrescente."
      ],
      "metadata": {
        "id": "cTuIqrVqx9vy"
      }
    },
    {
      "cell_type": "code",
      "source": [
        "def ImparDecre(lista):\n",
        "  Impares = []\n",
        "  for i in lista:\n",
        "    if i % 2 == 1:\n",
        "      Impares.append(i)\n",
        "  inverti = sorted(Impares, reverse = True)\n",
        "  return inverti\n",
        "\n",
        "lista_numeros = [1,2,3,4,5,6,7,8,9,10,11,12,13,14,15,16,17,18,19,20]\n",
        "\n",
        "print(ImparDecre(lista_numeros))\n"
      ],
      "metadata": {
        "id": "v6lcgfEfx97x"
      },
      "execution_count": null,
      "outputs": []
    },
    {
      "cell_type": "markdown",
      "source": [
        "9. Escreva uma função que recebe uma lista de dicionários com informações sobre alunos\n",
        "(nome, notas de matemática, notas de história) e retorna uma lista de dicionários contendo o\n",
        "nome e a média das notas de cada aluno, ordenados por média."
      ],
      "metadata": {
        "id": "EzvlI0xsx-N5"
      }
    },
    {
      "cell_type": "code",
      "source": [
        "def media_ordenada(valor):\n",
        "  media = []\n",
        "  for m in valor:\n",
        "    medi = {}\n",
        "    med = (m['NOTAmat'] + m['NOTAhis']) / 2\n",
        "    medi['NOME'] = m['ALUNO']\n",
        "    medi['MEDIA'] = med\n",
        "    media.append(medi)\n",
        "  media = sorted(media, key=lambda x: x['MEDIA'] )\n",
        "  return media\n",
        "\n",
        "\n",
        "lista_aluno = [{'ALUNO': \"Anderson\",'NOTAmat': 8.5,'NOTAhis': 9.5},{'ALUNO':\"Trinide\" ,'NOTAmat': 10 ,'NOTAhis':7.5}]\n",
        "\n",
        "print(media_ordenada(lista_aluno))"
      ],
      "metadata": {
        "id": "Z7PWGw9xx-aB",
        "colab": {
          "base_uri": "https://localhost:8080/"
        },
        "outputId": "c03e76ad-ac1e-4102-8d84-5adaf459b1dc"
      },
      "execution_count": null,
      "outputs": [
        {
          "output_type": "stream",
          "name": "stdout",
          "text": [
            "[{'NOME': 'Trinide', 'MEDIA': 8.75}, {'NOME': 'Anderson', 'MEDIA': 9.0}]\n"
          ]
        }
      ]
    },
    {
      "cell_type": "markdown",
      "source": [
        "10. Escreva uma função que recebe uma lista de dicionários com informações sobre carros\n",
        "(marca, modelo, ano de fabricação, preço) e retorna uma lista de dicionários contendo\n",
        "somente os carros fabricados depois de 2010, ordenados por preço."
      ],
      "metadata": {
        "id": "LaLDVrMEx-lR"
      }
    },
    {
      "cell_type": "code",
      "source": [
        "\n",
        "Carros = [{'MARCA': 'Ford', 'MODELO': 'Fiesta', 'ANO': 2020, 'PRECO': 45000},{'MARCA': 'Toyota', 'MODELO': 'Corolla', 'ANO': 2008, 'PRECO': 62000}, {'MARCA': 'Chevrolet', 'MODELO': 'Onix', 'ANO': 2009, 'PRECO': 55000}, {'MARCA': 'Volkswagen', 'MODELO': 'Golf', 'ANO': 2018, 'PRECO': 58000}]\n",
        "\n",
        "def carros_ano(entra):\n",
        "  mildez = []\n",
        "  for n in entra:\n",
        "    if n ['ANO'] > 2010:\n",
        "      mildez.append(n)\n",
        "  mildez = sorted(mildez, key=lambda x : x['PRECO'])\n",
        "  return mildez\n",
        "print(carros_ano(Carros))\n",
        ""
      ],
      "metadata": {
        "id": "3R272Uqox-tJ"
      },
      "execution_count": null,
      "outputs": []
    },
    {
      "cell_type": "markdown",
      "source": [
        "11. Escreva uma função que recebe uma lista de tuplas contendo informações sobre músicas\n",
        "(título, artista, duração em segundos) e retorna uma lista de tuplas contendo somente as\n",
        "músicas com duração maior do que 180 segundos, ordenadas por duração."
      ],
      "metadata": {
        "id": "hVLh630uVHu2"
      }
    },
    {
      "cell_type": "code",
      "source": [
        "musicas = [{'TITULO':\"Boremian Rhapsody\",'ARTISTA':\"Queen\",'DURACAO':354},{'TITULO':\"Controllah\",'ARTISTA':\"Gorillaz ft.MC bin laden\",'DURACAO':140},{'TITULO':\"AFTER HOURS\",'ARTISTA':\"The Weekend\",'DURACAO':361}]\n",
        "def maior180(musicas):\n",
        "  duracao180 = []\n",
        "  for d in musicas:\n",
        "    if d['DURACAO'] > 180:\n",
        "      duracao180.append(d)\n",
        "  duracao180 = sorted(duracao180, key = lambda x : x['DURACAO'])\n",
        "  return duracao180\n",
        "\n",
        "print(maior180(musicas))\n"
      ],
      "metadata": {
        "id": "iiGdchyIVIW_"
      },
      "execution_count": null,
      "outputs": []
    },
    {
      "cell_type": "markdown",
      "source": [
        "12. Escreva uma função que recebe um dicionário com informações sobre uma pessoa (nome,\n",
        "idade, endereço, telefone) e permite que o usuário atualize qualquer uma dessas\n",
        "informações."
      ],
      "metadata": {
        "id": "81tjS9TkVIsJ"
      }
    },
    {
      "cell_type": "code",
      "source": [
        "pessoa = [ {'IDNOME':1,'NOME': 'João', 'IDADE': 25, 'ENDERECO': 'Rua A, 123', 'TELEFONE': '(11) 1234-5678'},{'IDNOME':2,'NOME': 'Maria', 'IDADE': 30, 'ENDERECO': 'Rua B, 456', 'TELEFONE': '(11) 2345-6789'},{'IDNOME':3,'NOME': 'Pedro', 'IDADE': 20, 'ENDERECO': 'Rua C, 789', 'TELEFONE': '(11) 3456-7890'}, {'IDNOME':4,'NOME': 'Ana', 'IDADE': 28, 'ENDERECO': 'Rua D, 321', 'TELEFONE': '(11) 4567-8901'}, {'IDNOME':5,'NOME': 'Lucas', 'IDADE': 22, 'ENDERECO': 'Rua E, 654', 'TELEFONE': '(11) 5678-9012'}]\n",
        "def Alterar(lista_p,valtera,Amudar,ID):\n",
        "  atualizacao = []\n",
        "  #alteracao de nome:\n",
        "  if valtera == 1:\n",
        "    for altera in lista_p:\n",
        "      if altera['IDNOME'] == ID:\n",
        "        altera['Nome'] = Amudar\n",
        "        atualizacao.append(altera)\n",
        "      else:\n",
        "        atualizacao.append(altera)\n",
        "\n",
        "  #alteracao de idade:\n",
        "  elif valtera == 2:\n",
        "    for altera in lista_p:\n",
        "      if altera['IDNOME'] == ID:\n",
        "        altera['IDADE'] = Amudar\n",
        "        atualizacao.append(altera)\n",
        "      else:\n",
        "        atualizacao.append(altera)\n",
        "\n",
        "  #alteracao de endereco:\n",
        "  elif valtera == 3:\n",
        "    for altera in lista_p:\n",
        "      if altera['IDNOME'] == ID:\n",
        "        altera['ENDERECO'] = Amudar\n",
        "        atualizacao.append(altera)\n",
        "      else:\n",
        "        atualizacao.append(altera)\n",
        "\n",
        "  #alteracao de telefone:\n",
        "  elif valtera == 4:\n",
        "    for altera in lista_p:\n",
        "      if altera['IDNOME'] == ID:\n",
        "        altera['TELEFONE'] = Amudar\n",
        "        atualizacao.append(altera)\n",
        "      else:\n",
        "        atualizacao.append(altera)\n",
        "\n",
        "  return atualizacao\n",
        "\n",
        "\n",
        "ValorAlteracao = int(input(\"Qual valor será alterado : \\n[1]NOME\\n[2]IDADE\\n[3]ENDEREÇO\\n[4]TELEFONE\\n\"))\n",
        "idnome = int(input(\"Codigo de acesso: \"))\n",
        "if ValorAlteracao == 1:\n",
        "  nome = input(\"Novo nome: \")\n",
        "  print(Alterar(pessoa,ValorAlteracao,nome,idnome))\n",
        "elif ValorAlteracao == 2:\n",
        "  idade = int(input(\"Nova idade: \"))\n",
        "  print(Alterar(pessoa,ValorAlteracao,idade,idnome))\n",
        "elif ValorAlteracao == 3:\n",
        "  endereco  = input(\"novo endereco: \")\n",
        "  print(Alterar(pessoa,ValorAlteracao,endereco,idnome))\n",
        "elif ValorAlteracao == 4:\n",
        "  telefone = input(\"Novo telefone: \")\n",
        "  print(Alterar(pessoa,ValorAlteracao,telefone,idnome))\n"
      ],
      "metadata": {
        "id": "SYcTOcj2VI5c",
        "colab": {
          "base_uri": "https://localhost:8080/"
        },
        "outputId": "ff482aa3-b30d-4a5a-a917-38ef85b96eb9"
      },
      "execution_count": null,
      "outputs": [
        {
          "output_type": "stream",
          "name": "stdout",
          "text": [
            "Qual valor será alterado : \n",
            "[1]NOME\n",
            "[2]IDADE\n",
            "[3]ENDEREÇO\n",
            "[4]TELEFONE\n",
            "4\n",
            "Codigo de acesso: 3\n",
            "Novo telefone: (14) 4512-8956\n",
            "[{'IDNOME': 1, 'NOME': 'João', 'IDADE': 25, 'ENDERECO': 'Rua A, 123', 'TELEFONE': '(11) 1234-5678'}, {'IDNOME': 2, 'NOME': 'Maria', 'IDADE': 30, 'ENDERECO': 'Rua B, 456', 'TELEFONE': '(11) 2345-6789'}, {'IDNOME': 3, 'NOME': 'Pedro', 'IDADE': 20, 'ENDERECO': 'Rua C, 789', 'TELEFONE': '(14) 4512-8956'}, {'IDNOME': 4, 'NOME': 'Ana', 'IDADE': 28, 'ENDERECO': 'Rua D, 321', 'TELEFONE': '(11) 4567-8901'}, {'IDNOME': 5, 'NOME': 'Lucas', 'IDADE': 22, 'ENDERECO': 'Rua E, 654', 'TELEFONE': '(11) 5678-9012'}]\n"
          ]
        }
      ]
    },
    {
      "cell_type": "markdown",
      "source": [
        "13. Escreva uma função que recebe uma lista de dicionários com informações sobre produtos\n",
        "(nome, preço, quantidade em estoque) e retorna o produto com o maior estoque."
      ],
      "metadata": {
        "id": "Yf4j0i3pVJIb"
      }
    },
    {
      "cell_type": "code",
      "source": [
        "produtos = [{'nome': 'Arroz 1Kg', 'preco': 10.99, 'estoque': 50},{'nome': 'BomBom', 'preco': 5.99, 'estoque': 100}, {'nome': 'Paçoca', 'preco': 2.99, 'estoque': 200},{'nome': 'Saldado', 'preco': 15.99, 'estoque': 20},]\n",
        "\n",
        "def maior_estoque(lista):\n",
        "  ma = 0\n",
        "  esto = {}\n",
        "  for max in lista:\n",
        "    if ma < max['estoque']:\n",
        "      ma = max['estoque']\n",
        "      pro_nome = max['nome']\n",
        "  ma = str(ma)\n",
        "  maior = \"maior estoque é de \" + pro_nome + \" com sua(s) \" + ma + \" Unidades\"\n",
        "\n",
        "  return maior\n",
        "\n",
        "print(maior_estoque(produtos))\n",
        ""
      ],
      "metadata": {
        "id": "M-IVMGYUVJUf"
      },
      "execution_count": null,
      "outputs": []
    },
    {
      "cell_type": "markdown",
      "source": [
        "14. Escreva uma função que recebe uma lista de números e retorna uma lista contendo somente\n",
        "os números divisíveis por 3 e 5 ao mesmo tempo."
      ],
      "metadata": {
        "id": "d3oLecHDVJhR"
      }
    },
    {
      "cell_type": "code",
      "source": [
        "numeros = [1,2,3,4,5,6,7,8,9,10,11,12,13,14,15,16,17,18,19,20,21,22,23,24,25,26,27,28,29,30,31,32,33,34,35,36,37,38,39,40,41,42,43,44,45,46,47,48,49,50]\n",
        "\n",
        "def tres_cinco(lista):\n",
        "  TC = []\n",
        "  for i in lista:\n",
        "    if i % 5 == 0 and i % 3 == 0:\n",
        "      TC.append(i)\n",
        "  return TC\n",
        "print(tres_cinco(numeros))"
      ],
      "metadata": {
        "id": "2-3Iap9oVJto"
      },
      "execution_count": null,
      "outputs": []
    },
    {
      "cell_type": "markdown",
      "source": [
        "15. Escreva uma função que recebe uma lista de dicionários com informações sobre carros\n",
        "(marca, modelo, ano de fabricação, preço) e retorna uma lista de dicionários contendo\n",
        "somente os carros fabricados entre 2000 e 2010, ordenados por preço."
      ],
      "metadata": {
        "id": "ZEOFI3cfVJ4U"
      }
    },
    {
      "cell_type": "code",
      "source": [
        "Carros = [{'MARCA': 'Ford', 'MODELO': 'Fiesta', 'ANO': 2020, 'PRECO': 45000},{'MARCA': 'Toyota', 'MODELO': 'Corolla', 'ANO': 2008, 'PRECO': 62000}, {'MARCA': 'Chevrolet', 'MODELO': 'Onix', 'ANO': 2009, 'PRECO': 55000}, {'MARCA': 'Volkswagen', 'MODELO': 'Golf', 'ANO': 2018, 'PRECO': 58000}]\n",
        "\n",
        "def carros_ano(entra):\n",
        "  mildez = []\n",
        "  for n in entra:\n",
        "    if n ['ANO'] <= 2010 and n['ANO'] >= 2000:\n",
        "      mildez.append(n)\n",
        "  mildez = sorted(mildez, key=lambda x : x['PRECO'])\n",
        "  return mildez\n",
        "\n",
        "print(carros_ano(Carros))\n"
      ],
      "metadata": {
        "id": "TreZ0waCVKCg"
      },
      "execution_count": null,
      "outputs": []
    }
  ]
}