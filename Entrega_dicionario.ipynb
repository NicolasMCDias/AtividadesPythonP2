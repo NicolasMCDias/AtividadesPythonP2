{
  "nbformat": 4,
  "nbformat_minor": 0,
  "metadata": {
    "colab": {
      "provenance": [],
      "authorship_tag": "ABX9TyPto8Sx6izczhf5xQVgD6ns",
      "include_colab_link": true
    },
    "kernelspec": {
      "name": "python3",
      "display_name": "Python 3"
    },
    "language_info": {
      "name": "python"
    }
  },
  "cells": [
    {
      "cell_type": "markdown",
      "metadata": {
        "id": "view-in-github",
        "colab_type": "text"
      },
      "source": [
        "<a href=\"https://colab.research.google.com/github/NicolasMCDias/AtividadesPythonUni/blob/main/Entrega_dicionario.ipynb\" target=\"_parent\"><img src=\"https://colab.research.google.com/assets/colab-badge.svg\" alt=\"Open In Colab\"/></a>"
      ]
    },
    {
      "cell_type": "markdown",
      "source": [
        "1. Crie um dicionário com as notas de um aluno em três disciplinas. Peça ao usuário para informar o\n",
        "nome do aluno e as notas em cada disciplina, e imprima a média das notas na tela.\n"
      ],
      "metadata": {
        "id": "phVnf2BzuRG3"
      }
    },
    {
      "cell_type": "code",
      "execution_count": null,
      "metadata": {
        "id": "8SF_T6LIt2O1"
      },
      "outputs": [],
      "source": [
        "estudante = {}\n",
        "#Entrada:\n",
        "nome = input(\"Nome: \")\n",
        "portugues = float(input(\"nota de português: \"))\n",
        "matematica = float(input(\"nota de matemarica: \"))\n",
        "ciencias =  float(input(\"nota de ciencias: \"))\n",
        "\n",
        "#inserir no dicionario:\n",
        "estudante['nome'] = nome\n",
        "estudante['portugues'] = portugues\n",
        "estudante['matematica'] = matematica\n",
        "estudante['ciencias'] = ciencias\n",
        "estudante['media'] = (portugues + matematica + ciencias) /3\n",
        "\n",
        "#Saida:\n",
        "print(estudante)"
      ]
    },
    {
      "cell_type": "markdown",
      "source": [
        "2. Crie um dicionário que represente uma lista de tarefas a fazer. Cada tarefa deve ter uma descrição\n",
        "e uma prioridade (baixa, média ou alta). Peça ao usuário para informar a descrição e a prioridade\n",
        "de uma nova tarefa e adicione-a ao dicionário."
      ],
      "metadata": {
        "id": "3xpaT76BufZV"
      }
    },
    {
      "cell_type": "code",
      "source": [
        "Tarefa = {}\n",
        "Prioridade = {'1': \"Baixa\", '2': \"Media\",'3':\"Alta\"}\n",
        "f = 1\n",
        "while f != 0:\n",
        "  atividade = input(\"Tarefa a ser realizada: \")\n",
        "  Nivel_prioridade = input('Prioridade da tarefa:\\n[1]BAIXA\\n[2]MEDIA\\n[3]ALTA\\n')\n",
        "  Tarefa[atividade] = Prioridade[Nivel_prioridade]\n",
        "  f = int(input(\"A mais atividades ? [1]Sim [0]Não\"))\n",
        "print(Tarefa)"
      ],
      "metadata": {
        "id": "6s-cyWcFugbu"
      },
      "execution_count": null,
      "outputs": []
    },
    {
      "cell_type": "markdown",
      "source": [
        "3. Crie um dicionário com o nome e a idade de três pessoas. Imprima na tela o nome e a idade da\n",
        "pessoa mais velha."
      ],
      "metadata": {
        "id": "jkqG7r3DuhCl"
      }
    },
    {
      "cell_type": "code",
      "source": [
        "pessoas = {'João':73,'Maria':35,'Carlos':19}\n",
        "\n",
        "lista = list(pessoas)\n",
        "maior = 0\n",
        "menor = maior\n",
        "for n in lista:\n",
        "  pesso = pessoas[n]\n",
        "  if pesso > maior:\n",
        "    maior = pesso\n",
        "print(pessoas)\n",
        "print(f\"O mais velho tem {maior} anos\")"
      ],
      "metadata": {
        "id": "oAU7PSCYugck"
      },
      "execution_count": null,
      "outputs": []
    },
    {
      "cell_type": "markdown",
      "source": [
        "4. Crie um dicionário com o nome e a data de nascimento de três pessoas. Em seguida, calcule e\n",
        "imprima na tela a idade de cada uma delas."
      ],
      "metadata": {
        "id": "YzZ4cAjeuiPv"
      }
    },
    {
      "cell_type": "code",
      "source": [
        "pessoa = {'Heitor' : 2020,'Glauce' : 1984, 'Gabi': 2007}\n",
        "idade = []\n",
        "num = 0\n",
        "ano_atual = int(input(\"Ano atual : \"))\n",
        "for i in pessoa:\n",
        "   idade1 = ano_atual - pessoa[i]\n",
        "   idade.append(idade1)\n",
        "pessoas = list(pessoa)\n",
        "for n in pessoas:\n",
        "  print(f\"{n} tem atualmente em {ano_atual}, {idade[num]} anos de idade\")\n",
        "  num += 1"
      ],
      "metadata": {
        "id": "ITmvK-E4ujM2"
      },
      "execution_count": null,
      "outputs": []
    },
    {
      "cell_type": "markdown",
      "source": [
        "5. Crie um dicionário que represente uma lista de compras de supermercado. Cada item da lista deve\n",
        "ter um nome e um preço. Peça ao usuário para informar um novo item e o seu preço, e adicione-o\n",
        "ao dicionário. Em seguida, imprima na tela a lista completa de compras, com os nomes e preços de\n",
        "todos os itens"
      ],
      "metadata": {
        "id": "IXyQDyf_us4O"
      }
    },
    {
      "cell_type": "code",
      "source": [
        "ListaMercado = {}\n",
        "Quant = []\n",
        "m = 1\n",
        "\n",
        "#INSERIR PRODUTO:\n",
        "\n",
        "while m != 0:\n",
        "   Produto = input(\"Produto: \")\n",
        "   valor = float(input(\"Valor do produto: \"))\n",
        "   QuantProduto = int(input(\"Quantidade do produto: \"))\n",
        "   ListaMercado[Produto] = valor\n",
        "   Quant.append(QuantProduto)\n",
        "   m = int(input(\"adicionar mais? [1]Sim / [0]Não \"))\n",
        "\n",
        "#TOTAL:\n",
        "\n",
        "print(ListaMercado)\n",
        "total = 0\n",
        "num = 0\n",
        "for t in ListaMercado:\n",
        "  so = ListaMercado[t] * Quant[num]\n",
        "  total += so\n",
        "  num += 1\n",
        "print(f\"Valor total a ser pago é de R${total:0.2f}\")"
      ],
      "metadata": {
        "id": "TAarhOLautJ9"
      },
      "execution_count": null,
      "outputs": []
    }
  ]
}