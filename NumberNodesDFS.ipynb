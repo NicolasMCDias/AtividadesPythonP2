{
  "nbformat": 4,
  "nbformat_minor": 0,
  "metadata": {
    "colab": {
      "provenance": [],
      "include_colab_link": true
    },
    "kernelspec": {
      "name": "python3",
      "display_name": "Python 3"
    },
    "language_info": {
      "name": "python"
    }
  },
  "cells": [
    {
      "cell_type": "markdown",
      "metadata": {
        "id": "view-in-github",
        "colab_type": "text"
      },
      "source": [
        "<a href=\"https://colab.research.google.com/github/NicolasMCDias/AtividadesPythonUni/blob/main/NumberNodesDFS.ipynb\" target=\"_parent\"><img src=\"https://colab.research.google.com/assets/colab-badge.svg\" alt=\"Open In Colab\"/></a>"
      ]
    },
    {
      "cell_type": "code",
      "execution_count": null,
      "metadata": {
        "colab": {
          "base_uri": "https://localhost:8080/"
        },
        "id": "t5dSUJp8PDGr",
        "outputId": "0eac459d-0a7d-470f-b1e6-36c7078a7763"
      },
      "outputs": [
        {
          "output_type": "stream",
          "name": "stdout",
          "text": [
            "O número total de nós da árvore é: 5\n"
          ]
        }
      ],
      "source": [
        "class Node:\n",
        "    def __init__(self, data):\n",
        "        self.data = data\n",
        "        self.children = []\n",
        "\n",
        "    def add_child(self, child):\n",
        "        self.children.append(child)\n",
        "\n",
        "def count_nodes(root):\n",
        "    if not root:\n",
        "        return 0\n",
        "\n",
        "    count = 1\n",
        "\n",
        "    for child in root.children:\n",
        "        count += count_nodes(child)\n",
        "\n",
        "    return count\n",
        "\n",
        "root = Node(1)\n",
        "node2 = Node(2)\n",
        "node3 = Node(3)\n",
        "node4 = Node(4)\n",
        "node5 = Node(6)\n",
        "\n",
        "root.add_child(node2)\n",
        "root.add_child(node3)\n",
        "node2.add_child(node4)\n",
        "node2.add_child(node5)\n",
        "\n",
        "total_nodes = count_nodes(root)\n",
        "print(f\"O número total de nós da árvore é: {total_nodes}\")\n"
      ]
    }
  ]
}